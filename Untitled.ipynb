{
 "cells": [
  {
   "cell_type": "code",
   "execution_count": 1,
   "metadata": {},
   "outputs": [
    {
     "name": "stdout",
     "output_type": "stream",
     "text": [
      "hello,yes,goodbye\n"
     ]
    }
   ],
   "source": []
  },
  {
   "cell_type": "code",
   "execution_count": null,
   "metadata": {},
   "outputs": [],
   "source": [
    "from PyQt5 import QtCore, QtWidgets, QtSerialPort\n",
    "\n",
    "class Widget(QtWidgets.QWidget):\n",
    "    def __init__(self, parent=None):\n",
    "        super(Widget, self).__init__(parent)\n",
    "        self.message_le = QtWidgets.QLineEdit()\n",
    "        self.send_btn = QtWidgets.QPushButton(\n",
    "            text=\"Send\",\n",
    "            clicked=self.send\n",
    "        )\n",
    "        self.output_te = QtWidgets.QTextEdit(readOnly=True)\n",
    "        self.button = QtWidgets.QPushButton(\n",
    "            text=\"Connect\", \n",
    "            checkable=True,\n",
    "            toggled=self.on_toggled\n",
    "        )\n",
    "        lay = QtWidgets.QVBoxLayout(self)\n",
    "        hlay = QtWidgets.QHBoxLayout()\n",
    "        hlay.addWidget(self.message_le)\n",
    "        hlay.addWidget(self.send_btn)\n",
    "        lay.addLayout(hlay)\n",
    "        lay.addWidget(self.output_te)\n",
    "        lay.addWidget(self.button)\n",
    "\n",
    "        self.serial = QtSerialPort.QSerialPort(\n",
    "            '/dev/tty.usbmodem14201',\n",
    "            baudRate=QtSerialPort.QSerialPort.Baud57600,\n",
    "            readyRead=self.receive\n",
    "        )\n",
    "\n",
    "    @QtCore.pyqtSlot()\n",
    "    def receive(self):\n",
    "        while self.serial.canReadLine():\n",
    "            text = self.serial.readLine().data().decode()\n",
    "            text = text.rstrip('\\r\\n')\n",
    "            self.output_te.append(text)\n",
    "\n",
    "    @QtCore.pyqtSlot()\n",
    "    def send(self):\n",
    "        self.serial.write(self.message_le.text().encode())\n",
    "\n",
    "    @QtCore.pyqtSlot(bool)\n",
    "    def on_toggled(self, checked):\n",
    "        self.button.setText(\"Disconnect\" if checked else \"Connect\")\n",
    "        if checked:\n",
    "            if not self.serial.isOpen():\n",
    "                if not self.serial.open(QtCore.QIODevice.ReadWrite):\n",
    "                    self.button.setChecked(False)\n",
    "        else:\n",
    "            self.serial.close()\n",
    "\n",
    "if __name__ == '__main__':\n",
    "    import sys\n",
    "    app = QtWidgets.QApplication(sys.argv)\n",
    "    w = Widget()\n",
    "    w.show()\n",
    "    sys.exit(app.exec_())"
   ]
  },
  {
   "cell_type": "code",
   "execution_count": null,
   "metadata": {},
   "outputs": [],
   "source": []
  }
 ],
 "metadata": {
  "kernelspec": {
   "display_name": "Python 3",
   "language": "python",
   "name": "python3"
  },
  "language_info": {
   "codemirror_mode": {
    "name": "ipython",
    "version": 3
   },
   "file_extension": ".py",
   "mimetype": "text/x-python",
   "name": "python",
   "nbconvert_exporter": "python",
   "pygments_lexer": "ipython3",
   "version": "3.8.3"
  }
 },
 "nbformat": 4,
 "nbformat_minor": 4
}
