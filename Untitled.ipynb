{
 "cells": [
  {
   "cell_type": "code",
   "execution_count": 3,
   "metadata": {},
   "outputs": [
    {
     "name": "stdout",
     "output_type": "stream",
     "text": [
      "Collecting diagramsNote: you may need to restart the kernel to use updated packages.\n",
      "  Downloading diagrams-0.18.0-py3-none-any.whl (16.1 MB)\n",
      "Requirement already satisfied: jinja2<3.0,>=2.10 in c:\\users\\juliu\\anaconda3\\lib\\site-packages (from diagrams) (2.11.2)\n",
      "Collecting graphviz<0.14.0,>=0.13.2\n",
      "  Downloading graphviz-0.13.2-py2.py3-none-any.whl (17 kB)\n",
      "Requirement already satisfied: MarkupSafe>=0.23 in c:\\users\\juliu\\anaconda3\\lib\\site-packages (from jinja2<3.0,>=2.10->diagrams) (1.1.1)\n",
      "Installing collected packages: graphviz, diagrams\n",
      "Successfully installed diagrams-0.18.0 graphviz-0.13.2\n",
      "\n"
     ]
    }
   ],
   "source": []
  },
  {
   "cell_type": "code",
   "execution_count": null,
   "metadata": {},
   "outputs": [],
   "source": [
    "from diagrams import Diagram\n",
    "\n",
    "with Diagram(\"Simple Website Diagram\") as diag:\n",
    "    pass\n",
    "diag # This will illustrate the diagram if you are using a Google Colab or Jypiter notebook."
   ]
  },
  {
   "cell_type": "code",
   "execution_count": null,
   "metadata": {},
   "outputs": [],
   "source": [
    "pip uninstall diagrams"
   ]
  },
  {
   "cell_type": "code",
   "execution_count": null,
   "metadata": {},
   "outputs": [],
   "source": []
  }
 ],
 "metadata": {
  "kernelspec": {
   "display_name": "Python 3",
   "language": "python",
   "name": "python3"
  },
  "language_info": {
   "codemirror_mode": {
    "name": "ipython",
    "version": 3
   },
   "file_extension": ".py",
   "mimetype": "text/x-python",
   "name": "python",
   "nbconvert_exporter": "python",
   "pygments_lexer": "ipython3",
   "version": "3.8.5"
  }
 },
 "nbformat": 4,
 "nbformat_minor": 4
}
